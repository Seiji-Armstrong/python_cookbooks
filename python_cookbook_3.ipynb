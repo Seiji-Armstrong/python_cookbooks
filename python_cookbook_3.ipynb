{
 "cells": [
  {
   "cell_type": "markdown",
   "metadata": {},
   "source": [
    "# Dicts"
   ]
  },
  {
   "cell_type": "markdown",
   "metadata": {},
   "source": [
    "### Combining multiple dicts"
   ]
  },
  {
   "cell_type": "code",
   "execution_count": 2,
   "metadata": {
    "collapsed": false
   },
   "outputs": [
    {
     "data": {
      "text/plain": [
       "{'father': 'yep', 'height': 'tall', 'married': 'yes', 'name': 'seiji'}"
      ]
     },
     "execution_count": 2,
     "metadata": {},
     "output_type": "execute_result"
    }
   ],
   "source": [
    "# Combining dicts (Pyton 3.5)\n",
    "dict_1 = {'name': 'seiji', 'height': 'tall'}\n",
    "dict_2 = {'married': 'yes', 'father': 'yep'}\n",
    "new_dict = {**dict_1, **dict_2}\n",
    "new_dict"
   ]
  },
  {
   "cell_type": "code",
   "execution_count": 1,
   "metadata": {
    "collapsed": true
   },
   "outputs": [],
   "source": [
    "def merge_two_dicts(dict_1, dict_2):\n",
    "    return {**dict_1, **dict_2}"
   ]
  },
  {
   "cell_type": "code",
   "execution_count": 4,
   "metadata": {
    "collapsed": true
   },
   "outputs": [],
   "source": [
    "dict_3 = {'happy': 'yes', 'rich': 'not yet'}"
   ]
  },
  {
   "cell_type": "code",
   "execution_count": 3,
   "metadata": {
    "collapsed": false
   },
   "outputs": [
    {
     "data": {
      "text/plain": [
       "{'father': 'yep', 'height': 'tall', 'married': 'yes', 'name': 'seiji'}"
      ]
     },
     "execution_count": 3,
     "metadata": {},
     "output_type": "execute_result"
    }
   ],
   "source": [
    "merge_two_dicts(dict_1,dict_2)"
   ]
  },
  {
   "cell_type": "code",
   "execution_count": 6,
   "metadata": {
    "collapsed": true
   },
   "outputs": [],
   "source": [
    "from functools import reduce"
   ]
  },
  {
   "cell_type": "code",
   "execution_count": 7,
   "metadata": {
    "collapsed": false,
    "scrolled": true
   },
   "outputs": [
    {
     "data": {
      "text/plain": [
       "{'father': 'yep',\n",
       " 'happy': 'yes',\n",
       " 'height': 'tall',\n",
       " 'married': 'yes',\n",
       " 'name': 'seiji',\n",
       " 'rich': 'not yet'}"
      ]
     },
     "execution_count": 7,
     "metadata": {},
     "output_type": "execute_result"
    }
   ],
   "source": [
    "reduce(merge_two_dicts, [dict_1,dict_2,dict_3])"
   ]
  },
  {
   "cell_type": "code",
   "execution_count": 30,
   "metadata": {
    "collapsed": false
   },
   "outputs": [
    {
     "data": {
      "text/plain": [
       "{'father': 'yep',\n",
       " 'happy': 'yes',\n",
       " 'height': 'tall',\n",
       " 'married': 'yes',\n",
       " 'name': 'seiji',\n",
       " 'rich': 'not yet'}"
      ]
     },
     "execution_count": 30,
     "metadata": {},
     "output_type": "execute_result"
    }
   ],
   "source": [
    "def merge_multi_dicts(*dict_args):\n",
    "    return reduce(merge_two_dicts, dict_args[0])\n",
    "\n",
    "merge_multi_dicts([dict_1,dict_2,dict_3])"
   ]
  },
  {
   "cell_type": "code",
   "execution_count": 31,
   "metadata": {
    "collapsed": false
   },
   "outputs": [
    {
     "data": {
      "text/plain": [
       "[{'height': 'tall', 'name': 'seiji'},\n",
       " {'father': 'yep', 'married': 'yes'},\n",
       " {'happy': 'yes', 'rich': 'not yet'}]"
      ]
     },
     "execution_count": 31,
     "metadata": {},
     "output_type": "execute_result"
    }
   ],
   "source": [
    "def test(*dict_args):\n",
    "    return dict_args[0]\n",
    "\n",
    "test([dict_1,dict_2,dict_3])"
   ]
  },
  {
   "cell_type": "code",
   "execution_count": 25,
   "metadata": {
    "collapsed": false
   },
   "outputs": [
    {
     "data": {
      "text/plain": [
       "[{'height': 'tall', 'name': 'seiji'},\n",
       " {'father': 'yep', 'married': 'yes'},\n",
       " {'happy': 'yes', 'rich': 'not yet'}]"
      ]
     },
     "execution_count": 25,
     "metadata": {},
     "output_type": "execute_result"
    }
   ],
   "source": [
    "[dict_1,dict_2,dict_3]"
   ]
  },
  {
   "cell_type": "code",
   "execution_count": 32,
   "metadata": {
    "collapsed": false
   },
   "outputs": [
    {
     "data": {
      "text/plain": [
       "{'father': 'yep',\n",
       " 'happy': 'yes',\n",
       " 'height': 'tall',\n",
       " 'married': 'yes',\n",
       " 'name': 'seiji',\n",
       " 'rich': 'not yet'}"
      ]
     },
     "execution_count": 32,
     "metadata": {},
     "output_type": "execute_result"
    }
   ],
   "source": [
    "reduce(lambda x,y: {**x,**y}, [dict_1,dict_2,dict_3])"
   ]
  },
  {
   "cell_type": "markdown",
   "metadata": {},
   "source": [
    "# Data Types for collections"
   ]
  },
  {
   "cell_type": "code",
   "execution_count": 2,
   "metadata": {
    "collapsed": true
   },
   "outputs": [],
   "source": [
    "import pandas as pd\n",
    "import numpy as np\n",
    "\n",
    "a_list = list(range(10))\n",
    "a_tuple = tuple(range(10))\n",
    "a_dict = dict(zip(range(10),range(10)))\n",
    "an_array = np.array(range(10))\n",
    "a_series = pd.Series(range(10))"
   ]
  },
  {
   "cell_type": "markdown",
   "metadata": {},
   "source": [
    "#### Series useful for using map, like in scala"
   ]
  },
  {
   "cell_type": "code",
   "execution_count": 4,
   "metadata": {
    "collapsed": false
   },
   "outputs": [
    {
     "data": {
      "text/plain": [
       "array([ 0,  1,  4,  9, 16, 25, 36, 49, 64, 81])"
      ]
     },
     "execution_count": 4,
     "metadata": {},
     "output_type": "execute_result"
    }
   ],
   "source": [
    "a_series.map(np.square).values"
   ]
  },
  {
   "cell_type": "markdown",
   "metadata": {},
   "source": [
    "#### Tuple is immutable, so hashable, so can perform groupybs on in DataFrame"
   ]
  }
 ],
 "metadata": {
  "kernelspec": {
   "display_name": "Python 3",
   "language": "python",
   "name": "python3"
  },
  "language_info": {
   "codemirror_mode": {
    "name": "ipython",
    "version": 3
   },
   "file_extension": ".py",
   "mimetype": "text/x-python",
   "name": "python",
   "nbconvert_exporter": "python",
   "pygments_lexer": "ipython3",
   "version": "3.5.2"
  }
 },
 "nbformat": 4,
 "nbformat_minor": 0
}
