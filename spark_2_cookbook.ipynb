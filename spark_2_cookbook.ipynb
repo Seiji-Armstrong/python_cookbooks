{
 "cells": [
  {
   "cell_type": "markdown",
   "metadata": {},
   "source": [
    "### Appending new column to spark dataframe"
   ]
  },
  {
   "cell_type": "code",
   "execution_count": null,
   "metadata": {
    "collapsed": true
   },
   "outputs": [],
   "source": [
    "from pyspark import Row\n",
    "\n",
    "def label_mapper(row):\n",
    "    row_dict = row.asDict()\n",
    "    row_dict['indexed_label'] = label_map_dict[row_dict[label_col]]\n",
    "    return Row(**row_dict)\n",
    "\n",
    "sparkDf.rdd.map(label_mapper).toDF()"
   ]
  },
  {
   "cell_type": "markdown",
   "metadata": {},
   "source": [
    "#### Discussion \n",
    "Prior to Spark 2.0, spark_df.map would alias to spark_df.rdd.map()"
   ]
  },
  {
   "cell_type": "markdown",
   "metadata": {
    "collapsed": true
   },
   "source": [
    "### Notes \n",
    "#### Categorical vs continuous features\n",
    "* maxCategories in VectorIndexer refers to threshold. Any feature with number of unique values > maxCategories will be treated as continuous, as opposed to categorical. "
   ]
  },
  {
   "cell_type": "markdown",
   "metadata": {
    "collapsed": true
   },
   "source": [
    "## Spark ML vs Spark MLlib\n",
    "MLlib is being deprecated, and so we won't have to worry about it in the future, but for now there is an awkward transition period. Here we note some traps to avoid "
   ]
  },
  {
   "cell_type": "markdown",
   "metadata": {},
   "source": [
    "#### Spark ML vector is not equal to Spark Mllib equal"
   ]
  },
  {
   "cell_type": "code",
   "execution_count": 1,
   "metadata": {
    "collapsed": true
   },
   "outputs": [],
   "source": [
    "from pyspark.mllib.regression import LabeledPoint\n",
    "from pyspark.ml import linalg as ml_linalg\n",
    "from pyspark.mllib.linalg import Vectors as MLLibVectors\n",
    "from pyspark.sql.functions import col\n",
    "\n",
    "def label_point_this(inputDf, label_col=\"indexedLabel\", feat_col=\"features\"):\n",
    "    \"\"\"wrapper for generating LabeledPoint vectors.\n",
    "    Logic needed to convert ML Vectors into MLlib vectors\n",
    "    \"\"\"\n",
    "\n",
    "    def as_mllib(v):\n",
    "        if isinstance(v, ml_linalg.SparseVector):\n",
    "            return MLLibVectors.sparse(v.size, v.indices, v.values)\n",
    "        elif isinstance(v, ml_linalg.DenseVector):\n",
    "            return MLLibVectors.dense(v.toArray())\n",
    "        else:\n",
    "            raise TypeError(\"Unsupported type: {0}\".format(type(v)))\n",
    "\n",
    "\n",
    "    labeledPoints = (inputDf.select(col(label_col).alias(\"label\"), col(feat_col))\n",
    "                     .rdd.map(lambda row: LabeledPoint(row.label, as_mllib(row.features)))\n",
    "                     )\n",
    "    return labeledPoints"
   ]
  }
 ],
 "metadata": {
  "kernelspec": {
   "display_name": "Python 3",
   "language": "python",
   "name": "python3"
  },
  "language_info": {
   "codemirror_mode": {
    "name": "ipython",
    "version": 3
   },
   "file_extension": ".py",
   "mimetype": "text/x-python",
   "name": "python",
   "nbconvert_exporter": "python",
   "pygments_lexer": "ipython3",
   "version": "3.5.2"
  }
 },
 "nbformat": 4,
 "nbformat_minor": 2
}
