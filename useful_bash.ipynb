{
 "cells": [
  {
   "cell_type": "code",
   "execution_count": null,
   "metadata": {
    "collapsed": true
   },
   "outputs": [],
   "source": [
    "apt-cache policy <packageName> "
   ]
  },
  {
   "cell_type": "code",
   "execution_count": 1,
   "metadata": {
    "collapsed": false
   },
   "outputs": [
    {
     "name": "stdout",
     "output_type": "stream",
     "text": [
      "maven:\n",
      "  Installed: 3.3.9-3\n",
      "  Candidate: 3.3.9-3\n",
      "  Version table:\n",
      " *** 3.3.9-3 500\n",
      "        500 http://us.archive.ubuntu.com/ubuntu xenial/universe amd64 Packages\n",
      "        500 http://us.archive.ubuntu.com/ubuntu xenial/universe i386 Packages\n",
      "        100 /var/lib/dpkg/status\n"
     ]
    }
   ],
   "source": [
    "%%bash\n",
    "apt-cache policy maven"
   ]
  },
  {
   "cell_type": "markdown",
   "metadata": {
    "collapsed": true
   },
   "source": [
    "#### To write and execute a bash script, do 3 things:\n",
    "<ol>\n",
    "<li> write the script. For example:<br>\n",
    "`#!/bin/bash\n",
    "for file in {,.}*;\n",
    "do\n",
    "echo \"${file%.pcapng*}\";\n",
    "done`\n",
    "</li>\n",
    "<li> give the script permissions:<br>\n",
    "`$ chmod 755 <file_name>`\n",
    "</li>\n",
    "<li> run the script<br>\n",
    "`./file_name`\n",
    "</li>\n",
    "</ol>"
   ]
  },
  {
   "cell_type": "code",
   "execution_count": null,
   "metadata": {
    "collapsed": true
   },
   "outputs": [],
   "source": [
    "mv ~/path/*.pcap ~/newpath/"
   ]
  }
 ],
 "metadata": {
  "kernelspec": {
   "display_name": "Python 2",
   "language": "python",
   "name": "python2"
  },
  "language_info": {
   "codemirror_mode": {
    "name": "ipython",
    "version": 2
   },
   "file_extension": ".py",
   "mimetype": "text/x-python",
   "name": "python",
   "nbconvert_exporter": "python",
   "pygments_lexer": "ipython2",
   "version": "2.7.9"
  }
 },
 "nbformat": 4,
 "nbformat_minor": 0
}
