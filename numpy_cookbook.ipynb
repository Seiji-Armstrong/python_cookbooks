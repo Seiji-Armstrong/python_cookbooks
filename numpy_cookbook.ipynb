{
 "cells": [
  {
   "cell_type": "markdown",
   "metadata": {},
   "source": [
    "## 3D Arrays display different from MATLAB\n",
    "This doesn't affect indexing, but affects speed of iteration over a dimension"
   ]
  },
  {
   "cell_type": "markdown",
   "metadata": {},
   "source": [
    "#### Numpy creates matrices from 2nd and 3rd dimensions, with depth as 1st dimension"
   ]
  },
  {
   "cell_type": "code",
   "execution_count": 2,
   "metadata": {
    "collapsed": false
   },
   "outputs": [
    {
     "data": {
      "text/plain": [
       "array([[[ 0.55864489,  0.51364723,  0.79222775],\n",
       "        [ 0.42848784,  0.85694522,  0.17524314]],\n",
       "\n",
       "       [[ 0.51494332,  0.3814136 ,  0.3413738 ],\n",
       "        [ 0.89137242,  0.2712956 ,  0.06734602]],\n",
       "\n",
       "       [[ 0.06492419,  0.96361544,  0.93317104],\n",
       "        [ 0.13875136,  0.15693958,  0.09238361]],\n",
       "\n",
       "       [[ 0.79254391,  0.32710089,  0.17598192],\n",
       "        [ 0.42815886,  0.10686989,  0.56180987]]])"
      ]
     },
     "execution_count": 2,
     "metadata": {},
     "output_type": "execute_result"
    }
   ],
   "source": [
    "import numpy as np\n",
    "a = np.random.rand(4,2,3)\n",
    "a"
   ]
  },
  {
   "cell_type": "markdown",
   "metadata": {},
   "source": [
    "#### MATLAB would create matrices from 1st dim x 2nd dim, and show depth as 3rd dim (as follows)"
   ]
  },
  {
   "cell_type": "code",
   "execution_count": 3,
   "metadata": {
    "collapsed": false
   },
   "outputs": [
    {
     "data": {
      "text/plain": [
       "array([[[ 0.55864489,  0.42848784],\n",
       "        [ 0.51494332,  0.89137242],\n",
       "        [ 0.06492419,  0.13875136],\n",
       "        [ 0.79254391,  0.42815886]],\n",
       "\n",
       "       [[ 0.51364723,  0.85694522],\n",
       "        [ 0.3814136 ,  0.2712956 ],\n",
       "        [ 0.96361544,  0.15693958],\n",
       "        [ 0.32710089,  0.10686989]],\n",
       "\n",
       "       [[ 0.79222775,  0.17524314],\n",
       "        [ 0.3413738 ,  0.06734602],\n",
       "        [ 0.93317104,  0.09238361],\n",
       "        [ 0.17598192,  0.56180987]]])"
      ]
     },
     "execution_count": 3,
     "metadata": {},
     "output_type": "execute_result"
    }
   ],
   "source": [
    "np.array([a[:,:,0], a[:,:,1], a[:,:,2]])"
   ]
  },
  {
   "cell_type": "markdown",
   "metadata": {},
   "source": [
    "#### discussion\n",
    "http://stackoverflow.com/questions/22981845/3-dimensional-array-in-numpy<br>\n",
    "* Matlab stores data column by column (\"Fortran order\"), while NumPy by default stores them row by row (\"C order\"). This doesn't affect indexing, but may affect performance. For example, in Matlab efficient loop will be over columns (e.g. for n = 1:10 a(:, n) end), while in NumPy it's preferable to iterate over rows (e.g. for n in range(10): a[n, :] -- note n in first position, not the last).\n",
    "* If you work with colored images in OpenCV, remember that it: Stores images in BGR format and not RGB, like most Python libraries do. AND Most functions work on image coordinates (x, y), which are opposite to matrix coordinates (i, j)."
   ]
  }
 ],
 "metadata": {
  "kernelspec": {
   "display_name": "Python 3",
   "language": "python",
   "name": "python3"
  },
  "language_info": {
   "codemirror_mode": {
    "name": "ipython",
    "version": 3
   },
   "file_extension": ".py",
   "mimetype": "text/x-python",
   "name": "python",
   "nbconvert_exporter": "python",
   "pygments_lexer": "ipython3",
   "version": "3.5.2"
  }
 },
 "nbformat": 4,
 "nbformat_minor": 0
}
