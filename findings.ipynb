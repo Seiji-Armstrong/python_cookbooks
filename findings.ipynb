{
 "cells": [
  {
   "cell_type": "markdown",
   "metadata": {},
   "source": [
    "### Cosine similiarity"
   ]
  },
  {
   "cell_type": "markdown",
   "metadata": {},
   "source": [
    "#### relative position of vector element does not affect similarity score\n",
    "Below we create 3 vectors of length 20.<br>\n",
    "$b$ and $c$ are the same as $a$ except they have a $10$ value in different positions. We find that the cosine similarity score is the same for $a,b$ and $a,c$. \n",
    "This checks out from a mathematical point of view of course; each dimension is orthogonal to each other dimension. Here we are verifying the code reflects the maths."
   ]
  },
  {
   "cell_type": "code",
   "execution_count": 2,
   "metadata": {
    "collapsed": true
   },
   "outputs": [],
   "source": [
    "import numpy as np"
   ]
  },
  {
   "cell_type": "code",
   "execution_count": 5,
   "metadata": {
    "collapsed": false
   },
   "outputs": [],
   "source": [
    "a = np.zeros(20)\n",
    "a[1], a[2], a[3] = 1, 1, 2\n",
    "b = np.array(a)\n",
    "c = np.array(a)\n",
    "b[5]=10\n",
    "c[17] = 10"
   ]
  },
  {
   "cell_type": "code",
   "execution_count": 6,
   "metadata": {
    "collapsed": true
   },
   "outputs": [],
   "source": [
    "from velocitypy.helper.linear_algebra import cos_sim"
   ]
  },
  {
   "cell_type": "code",
   "execution_count": 7,
   "metadata": {
    "collapsed": false
   },
   "outputs": [
    {
     "name": "stdout",
     "output_type": "stream",
     "text": [
      "0.237915475715\n",
      "0.237915475715\n"
     ]
    }
   ],
   "source": [
    "print(cos_sim(a,b))\n",
    "print(cos_sim(a,c))"
   ]
  }
 ],
 "metadata": {
  "kernelspec": {
   "display_name": "Python 2",
   "language": "python",
   "name": "python2"
  },
  "language_info": {
   "codemirror_mode": {
    "name": "ipython",
    "version": 2
   },
   "file_extension": ".py",
   "mimetype": "text/x-python",
   "name": "python",
   "nbconvert_exporter": "python",
   "pygments_lexer": "ipython2",
   "version": "2.7.13"
  }
 },
 "nbformat": 4,
 "nbformat_minor": 0
}
