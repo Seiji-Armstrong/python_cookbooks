{
 "cells": [
  {
   "cell_type": "markdown",
   "metadata": {},
   "source": [
    "#### Findings: s3 bucket structure - no directories.\n",
    "It's all a shiny veneer, there are no directories. The addresses are made to look like directories, but it is flat, with no hierarchy. This makes it tedious to move entire 'directories' around. Investigate if we can move multiple files at once.."
   ]
  },
  {
   "cell_type": "markdown",
   "metadata": {},
   "source": [
    "#### Upload local directory to S3"
   ]
  },
  {
   "cell_type": "code",
   "execution_count": null,
   "metadata": {
    "collapsed": true
   },
   "outputs": [],
   "source": [
    "%%bash\n",
    "s3cmd put --recursive <local_dir> <s3://xangent-filestore/users/Seiji/NEWPATH>"
   ]
  },
  {
   "cell_type": "markdown",
   "metadata": {},
   "source": [
    "#### move s3bucket to another s3bucket location"
   ]
  },
  {
   "cell_type": "code",
   "execution_count": null,
   "metadata": {
    "collapsed": true
   },
   "outputs": [],
   "source": [
    "%%bash\n",
    "s3cmd mv --recursive <old_s3_bucket> <new_s3_bucket> "
   ]
  },
  {
   "cell_type": "markdown",
   "metadata": {},
   "source": [
    "#### download from s3 to local dir"
   ]
  },
  {
   "cell_type": "code",
   "execution_count": 2,
   "metadata": {
    "collapsed": false
   },
   "outputs": [
    {
     "name": "stderr",
     "output_type": "stream",
     "text": [
      "bash: line 1: syntax error near unexpected token `<'\n",
      "bash: line 1: `s3cmd get --recursive <s3_bucket> <local_dir>'\n"
     ]
    }
   ],
   "source": [
    "%%bash\n",
    "s3cmd get --recursive <s3_bucket> <local_dir>"
   ]
  },
  {
   "cell_type": "markdown",
   "metadata": {},
   "source": [
    "#### Discussion\n",
    "The destination directory path needs to explicitly list the final destination, for example if we say `s3cmd mv s3://.../some_bucket/ s3://.../some_new_bucket/` what happens is the contents of `some_bucket` are moved but without any reference to `some_bucket`, which is lost. So we really have to say `s3cmd mv --recursive s3://.../some_bucket/ s3://.../some_new_bucket/some_bucket/`"
   ]
  },
  {
   "cell_type": "code",
   "execution_count": null,
   "metadata": {
    "collapsed": true
   },
   "outputs": [],
   "source": []
  }
 ],
 "metadata": {
  "kernelspec": {
   "display_name": "Python 3",
   "language": "python",
   "name": "python3"
  },
  "language_info": {
   "codemirror_mode": {
    "name": "ipython",
    "version": 3
   },
   "file_extension": ".py",
   "mimetype": "text/x-python",
   "name": "python",
   "nbconvert_exporter": "python",
   "pygments_lexer": "ipython3",
   "version": "3.5.2"
  }
 },
 "nbformat": 4,
 "nbformat_minor": 2
}
